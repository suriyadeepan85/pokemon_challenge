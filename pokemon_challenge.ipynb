{
  "nbformat": 4,
  "nbformat_minor": 0,
  "metadata": {
    "colab": {
      "name": "pokemon_challenge.ipynb",
      "provenance": [],
      "collapsed_sections": []
    },
    "kernelspec": {
      "name": "python3",
      "display_name": "Python 3"
    },
    "language_info": {
      "name": "python"
    }
  },
  "cells": [
    {
      "cell_type": "code",
      "execution_count": 373,
      "metadata": {
        "colab": {
          "base_uri": "https://localhost:8080/"
        },
        "id": "E2c8YtLSZ6m7",
        "outputId": "c5538fa1-181d-4bbe-c2a2-4d3eedad6663"
      },
      "outputs": [
        {
          "output_type": "stream",
          "name": "stdout",
          "text": [
            "electric\n"
          ]
        }
      ],
      "source": [
        "\n",
        "import requests\n",
        "import my_pokemon_algo\n",
        "##import my_data_processor\n",
        "# Get the data from PokeAPI\n",
        "resp = requests.get('https://pokeapi.co/api/v2/pokemon/pikachu').json()\n",
        "# (Optionally) process the results\n",
        "t=[]\n",
        "t.append(\n",
        "    {\n",
        "        'species': resp['species']['name'],\n",
        "        'height': resp['height'],\n",
        "        'weight':resp['weight'],\n",
        "        'hp':resp['stats'][0]['base_stat'],\n",
        "        'attack':resp['stats'][1]['base_stat'],\n",
        "        'defense':resp['stats'][2]['base_stat'],\n",
        "        'special-attack':resp['stats'][3]['base_stat'],\n",
        "        'special-defense':resp['stats'][4]['base_stat'],\n",
        "        'speed':resp['stats'][5]['base_stat'],\n",
        "        \n",
        "    }\n",
        ")\n",
        "dft_pred=pd.DataFrame(t)\n",
        "pokemon = dft_pred[['height','weight','hp','attack','defense','special-attack','special-defense','speed']]\n",
        "class_dict_rev={}\n",
        "for i in class_dict.keys():\n",
        "  class_dict_rev[class_dict[i]]=i\n",
        "#pokemon_data = my_data_processor.process(resp)\n",
        "# Predict the type of a Pokemon\n",
        "#need poke_type = my_pokemon_algo.predict(pokemon)\n",
        "poke_type = pipe.predict(pokemon)\n",
        "# Example output -> \"electric\"\n",
        "#exist print(poke_type)\n",
        "print(class_dict_rev[int(poke_type)])"
      ]
    }
  ]
}